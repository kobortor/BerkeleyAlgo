{
 "cells": [
  {
   "cell_type": "code",
   "execution_count": 10,
   "metadata": {},
   "outputs": [],
   "source": [
    "import pandas as pd\n",
    "import itertools\n",
    "from constants import *\n",
    "from functions import bin_helper\n",
    "import numpy as np\n",
    "import matplotlib.pyplot as plt "
   ]
  },
  {
   "cell_type": "code",
   "execution_count": 11,
   "metadata": {},
   "outputs": [],
   "source": [
    "df_train = pd.read_csv(\"split/train.csv\")"
   ]
  },
  {
   "cell_type": "code",
   "execution_count": 13,
   "metadata": {},
   "outputs": [
    {
     "ename": "IndexError",
     "evalue": "index 4 is out of bounds for axis 0 with size 4",
     "output_type": "error",
     "traceback": [
      "\u001b[0;31m---------------------------------------------------------------------------\u001b[0m",
      "\u001b[0;31mIndexError\u001b[0m                                Traceback (most recent call last)",
      "\u001b[1;32m/home/kobortor/BerkeleyAlgo/MutualFund.ipynb Cell 3'\u001b[0m in \u001b[0;36m<module>\u001b[0;34m\u001b[0m\n\u001b[1;32m     <a href='vscode-notebook-cell:/home/kobortor/BerkeleyAlgo/MutualFund.ipynb#ch0000002?line=18'>19</a>\u001b[0m     ys \u001b[39m=\u001b[39m (df\u001b[39m.\u001b[39mreal_edge \u001b[39m-\u001b[39m df\u001b[39m.\u001b[39mpred_edge)\u001b[39m.\u001b[39mvalues\u001b[39m.\u001b[39mreshape((n, \u001b[39m-\u001b[39m\u001b[39m1\u001b[39m))\n\u001b[1;32m     <a href='vscode-notebook-cell:/home/kobortor/BerkeleyAlgo/MutualFund.ipynb#ch0000002?line=20'>21</a>\u001b[0m     x0 \u001b[39m=\u001b[39m np\u001b[39m.\u001b[39mlinalg\u001b[39m.\u001b[39mlstsq(A, ys, rcond\u001b[39m=\u001b[39m\u001b[39mNone\u001b[39;00m)[\u001b[39m0\u001b[39m]\u001b[39m.\u001b[39mflatten()\n\u001b[1;32m     <a href='vscode-notebook-cell:/home/kobortor/BerkeleyAlgo/MutualFund.ipynb#ch0000002?line=21'>22</a>\u001b[0m     mutual_fund_df[(xchg, stk)] \u001b[39m=\u001b[39m {\n\u001b[1;32m     <a href='vscode-notebook-cell:/home/kobortor/BerkeleyAlgo/MutualFund.ipynb#ch0000002?line=22'>23</a>\u001b[0m         \u001b[39m'\u001b[39m\u001b[39mpred_edge_slope\u001b[39m\u001b[39m'\u001b[39m: x0[\u001b[39m0\u001b[39m],\n\u001b[1;32m     <a href='vscode-notebook-cell:/home/kobortor/BerkeleyAlgo/MutualFund.ipynb#ch0000002?line=23'>24</a>\u001b[0m         \u001b[39m'\u001b[39m\u001b[39mpx_slope\u001b[39m\u001b[39m'\u001b[39m: x0[\u001b[39m1\u001b[39m],\n\u001b[1;32m     <a href='vscode-notebook-cell:/home/kobortor/BerkeleyAlgo/MutualFund.ipynb#ch0000002?line=24'>25</a>\u001b[0m         \u001b[39m'\u001b[39m\u001b[39msz_slope\u001b[39m\u001b[39m'\u001b[39m: x0[\u001b[39m2\u001b[39m],\n\u001b[1;32m     <a href='vscode-notebook-cell:/home/kobortor/BerkeleyAlgo/MutualFund.ipynb#ch0000002?line=25'>26</a>\u001b[0m         \u001b[39m# 'sm_slope': x0[3],\u001b[39;00m\n\u001b[0;32m---> <a href='vscode-notebook-cell:/home/kobortor/BerkeleyAlgo/MutualFund.ipynb#ch0000002?line=26'>27</a>\u001b[0m         \u001b[39m'\u001b[39m\u001b[39moffset\u001b[39m\u001b[39m'\u001b[39m: x0[\u001b[39m4\u001b[39;49m]\n\u001b[1;32m     <a href='vscode-notebook-cell:/home/kobortor/BerkeleyAlgo/MutualFund.ipynb#ch0000002?line=27'>28</a>\u001b[0m     }\n\u001b[1;32m     <a href='vscode-notebook-cell:/home/kobortor/BerkeleyAlgo/MutualFund.ipynb#ch0000002?line=29'>30</a>\u001b[0m \u001b[39m# mutual_fund_df.to_csv('mutual_fund_lines.csv')\u001b[39;00m\n\u001b[1;32m     <a href='vscode-notebook-cell:/home/kobortor/BerkeleyAlgo/MutualFund.ipynb#ch0000002?line=30'>31</a>\u001b[0m mutual_fund_df \u001b[39m=\u001b[39m pd\u001b[39m.\u001b[39mDataFrame\u001b[39m.\u001b[39mfrom_dict(mutual_fund_df, orient\u001b[39m=\u001b[39m\u001b[39m'\u001b[39m\u001b[39mindex\u001b[39m\u001b[39m'\u001b[39m)\n",
      "\u001b[0;31mIndexError\u001b[0m: index 4 is out of bounds for axis 0 with size 4"
     ]
    }
   ],
   "source": [
    "mutual_fund_df = {}\n",
    "\n",
    "for ((i, xchg), (j, stk)) in itertools.product(enumerate(exchanges), enumerate(stocks)):\n",
    "    df = df_train[(df_train.xchg == xchg) & (df_train.stk == stk) & (df_train.cp == \"MF\")]\n",
    "\n",
    "    if stk == \"D\":\n",
    "        df = df[df.sz != 8]\n",
    "\n",
    "    n = len(df)\n",
    "    A = np.vstack([\n",
    "        df.pred_edge,\n",
    "        df.px,\n",
    "        df.sz,\n",
    "        # df.sm,\n",
    "        np.ones((1, n))]).T\n",
    "\n",
    "    ys = (df.real_edge - df.pred_edge).values.reshape((n, -1))\n",
    "\n",
    "    x0 = np.linalg.lstsq(A, ys, rcond=None)[0].flatten()\n",
    "    mutual_fund_df[(xchg, stk)] = {\n",
    "        'pred_edge_slope': x0[0],\n",
    "        'px_slope': x0[1],\n",
    "        'sz_slope': x0[2],\n",
    "        # 'sm_slope': x0[3],\n",
    "        'offset': x0[3]\n",
    "    }\n",
    "\n",
    "# mutual_fund_df.to_csv('mutual_fund_lines.csv')\n",
    "mutual_fund_df = pd.DataFrame.from_dict(mutual_fund_df, orient='index')\n",
    "mutual_fund_df.index = mutual_fund_df.index.rename(['xchg', 'stk'])\n",
    "mutual_fund_df.to_csv(\"mutual_fund_lines.csv\")"
   ]
  },
  {
   "cell_type": "code",
   "execution_count": null,
   "metadata": {},
   "outputs": [],
   "source": []
  }
 ],
 "metadata": {
  "interpreter": {
   "hash": "e7370f93d1d0cde622a1f8e1c04877d8463912d04d973331ad4851f04de6915a"
  },
  "kernelspec": {
   "display_name": "Python 3.8.10 64-bit",
   "language": "python",
   "name": "python3"
  },
  "language_info": {
   "codemirror_mode": {
    "name": "ipython",
    "version": 3
   },
   "file_extension": ".py",
   "mimetype": "text/x-python",
   "name": "python",
   "nbconvert_exporter": "python",
   "pygments_lexer": "ipython3",
   "version": "3.8.10"
  },
  "orig_nbformat": 4
 },
 "nbformat": 4,
 "nbformat_minor": 2
}
