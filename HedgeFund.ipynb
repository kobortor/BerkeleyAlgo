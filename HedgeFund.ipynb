{
 "cells": [
  {
   "cell_type": "code",
   "execution_count": 1,
   "metadata": {},
   "outputs": [],
   "source": [
    "import pandas as pd\n",
    "import itertools\n",
    "from constants import *\n",
    "from functions import *"
   ]
  },
  {
   "cell_type": "code",
   "execution_count": 2,
   "metadata": {},
   "outputs": [],
   "source": [
    "df_train = pd.read_csv(\"split/train.csv\")"
   ]
  },
  {
   "cell_type": "code",
   "execution_count": 6,
   "metadata": {},
   "outputs": [],
   "source": [
    "hedge_fund_df = {}\n",
    "\n",
    "for ((i, xchg), (j, stk)) in itertools.product(enumerate(exchanges), enumerate(stocks)):\n",
    "    df = df_train[(df_train.xchg == xchg) & (df_train.stk == stk) & (df_train.cp == \"HF\")]\n",
    "\n",
    "    if stk == \"A\":\n",
    "        df = df[df.sz != 450]\n",
    "    if stk == \"C\":\n",
    "        df = df[df.sz != 2000]\n",
    "\n",
    "    n = len(df)\n",
    "    A = np.vstack([\n",
    "        df.pred_edge,\n",
    "        df.px,\n",
    "        df.sz,\n",
    "        # df.sm,\n",
    "        np.ones((1, n))]).T\n",
    "\n",
    "    ys = (df.real_edge - df.pred_edge).values.reshape((n, -1))\n",
    "\n",
    "    x0 = np.linalg.lstsq(A, ys, rcond=None)[0].flatten()\n",
    "    hedge_fund_df[(xchg, stk)] = {\n",
    "        'pred_edge_slope': x0[0],\n",
    "        'px_slope': x0[1],\n",
    "        'sz_slope': x0[2],\n",
    "        # 'sm_slope': x0[3],\n",
    "        'offset': x0[3]\n",
    "    }\n",
    "\n",
    "# hedge_fund_df.to_csv('hedge_fund_lines.csv')\n",
    "hedge_fund_df = pd.DataFrame.from_dict(hedge_fund_df, orient='index')\n",
    "hedge_fund_df.index = hedge_fund_df.index.rename(['xchg', 'stk'])\n",
    "hedge_fund_df.to_csv(\"hedge_fund_lines.csv\")"
   ]
  },
  {
   "cell_type": "code",
   "execution_count": null,
   "metadata": {},
   "outputs": [],
   "source": []
  }
 ],
 "metadata": {
  "interpreter": {
   "hash": "e7370f93d1d0cde622a1f8e1c04877d8463912d04d973331ad4851f04de6915a"
  },
  "kernelspec": {
   "display_name": "Python 3.8.10 64-bit",
   "language": "python",
   "name": "python3"
  },
  "language_info": {
   "codemirror_mode": {
    "name": "ipython",
    "version": 3
   },
   "file_extension": ".py",
   "mimetype": "text/x-python",
   "name": "python",
   "nbconvert_exporter": "python",
   "pygments_lexer": "ipython3",
   "version": "3.8.10"
  },
  "orig_nbformat": 4
 },
 "nbformat": 4,
 "nbformat_minor": 2
}
