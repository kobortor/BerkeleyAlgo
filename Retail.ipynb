{
 "cells": [
  {
   "cell_type": "code",
   "execution_count": 1,
   "metadata": {},
   "outputs": [],
   "source": [
    "import numpy as np\n",
    "import pandas as pd\n",
    "import matplotlib.pyplot as plt\n",
    "import scipy.stats\n",
    "import itertools\n",
    "from trapezoid import *\n",
    "from functions import *\n",
    "from constants import *"
   ]
  },
  {
   "cell_type": "code",
   "execution_count": 2,
   "id": "4af7e9ed",
   "metadata": {},
   "outputs": [],
   "source": [
    "df_all = pd.read_csv(\"train.csv\").rename(name_remap, axis=1)\n",
    "train_split = np.random.random(df_all.shape[0]) < 0.9\n",
    "df_train = df_all[train_split]\n",
    "df_dev = df_all[~train_split]"
   ]
  },
  {
   "cell_type": "code",
   "execution_count": 3,
   "id": "4af7e9ed",
   "metadata": {},
   "outputs": [],
   "source": [
    "df_all = pd.read_csv(\"train.csv\").rename(name_remap, axis=1)\n",
    "train_split = np.random.random(df_all.shape[0]) < 0.9\n",
    "df_train = df_all[train_split]\n",
    "df_dev = df_all[~train_split]"
   ]
  },
  {
   "cell_type": "code",
   "execution_count": 49,
   "id": "36340892",
   "metadata": {},
   "outputs": [
    {
     "ename": "TypeError",
     "evalue": "Field elements must be 2- or 3-tuples, got ''xchg''",
     "output_type": "error",
     "traceback": [
      "\u001b[0;31m---------------------------------------------------------------------------\u001b[0m",
      "\u001b[0;31mTypeError\u001b[0m                                 Traceback (most recent call last)",
      "\u001b[1;32m/home/kobortor/berkeley/Retail.ipynb Cell 4'\u001b[0m in \u001b[0;36m<module>\u001b[0;34m\u001b[0m\n\u001b[1;32m      <a href='vscode-notebook-cell:/home/kobortor/berkeley/Retail.ipynb#ch0000005?line=0'>1</a>\u001b[0m fig, axs \u001b[39m=\u001b[39m plt\u001b[39m.\u001b[39msubplots(\u001b[39m3\u001b[39m, \u001b[39m4\u001b[39m)\n\u001b[0;32m----> <a href='vscode-notebook-cell:/home/kobortor/berkeley/Retail.ipynb#ch0000005?line=2'>3</a>\u001b[0m trapezoid_df \u001b[39m=\u001b[39m pd\u001b[39m.\u001b[39mDataFrame([], indexby\u001b[39m=\u001b[39mpd\u001b[39m.\u001b[39;49mIndex([], [\u001b[39m'\u001b[39;49m\u001b[39mxchg\u001b[39;49m\u001b[39m'\u001b[39;49m, \u001b[39m'\u001b[39;49m\u001b[39mstk\u001b[39;49m\u001b[39m'\u001b[39;49m]), columns\u001b[39m=\u001b[39m[\u001b[39m\"\u001b[39m\u001b[39mx1\u001b[39m\u001b[39m\"\u001b[39m, \u001b[39m\"\u001b[39m\u001b[39mx2\u001b[39m\u001b[39m\"\u001b[39m, \u001b[39m\"\u001b[39m\u001b[39myl\u001b[39m\u001b[39m\"\u001b[39m, \u001b[39m\"\u001b[39m\u001b[39mymid\u001b[39m\u001b[39m\"\u001b[39m, \u001b[39m\"\u001b[39m\u001b[39myr\u001b[39m\u001b[39m\"\u001b[39m])\n\u001b[1;32m      <a href='vscode-notebook-cell:/home/kobortor/berkeley/Retail.ipynb#ch0000005?line=4'>5</a>\u001b[0m \u001b[39mfor\u001b[39;00m i, j, k \u001b[39min\u001b[39;00m itertools\u001b[39m.\u001b[39mproduct(\u001b[39mrange\u001b[39m(\u001b[39mlen\u001b[39m(exchanges)), \u001b[39mrange\u001b[39m(\u001b[39mlen\u001b[39m(stocks)), \u001b[39mrange\u001b[39m(\u001b[39m1\u001b[39m)):\n\u001b[1;32m      <a href='vscode-notebook-cell:/home/kobortor/berkeley/Retail.ipynb#ch0000005?line=5'>6</a>\u001b[0m     xchg \u001b[39m=\u001b[39m exchanges[i]\n",
      "File \u001b[0;32m~/.local/lib/python3.8/site-packages/pandas/core/indexes/base.py:416\u001b[0m, in \u001b[0;36mIndex.__new__\u001b[0;34m(cls, data, dtype, copy, name, tupleize_cols, **kwargs)\u001b[0m\n\u001b[1;32m    <a href='file:///~/.local/lib/python3.8/site-packages/pandas/core/indexes/base.py?line=412'>413</a>\u001b[0m name \u001b[39m=\u001b[39m maybe_extract_name(name, data, \u001b[39mcls\u001b[39m)\n\u001b[1;32m    <a href='file:///~/.local/lib/python3.8/site-packages/pandas/core/indexes/base.py?line=414'>415</a>\u001b[0m \u001b[39mif\u001b[39;00m dtype \u001b[39mis\u001b[39;00m \u001b[39mnot\u001b[39;00m \u001b[39mNone\u001b[39;00m:\n\u001b[0;32m--> <a href='file:///~/.local/lib/python3.8/site-packages/pandas/core/indexes/base.py?line=415'>416</a>\u001b[0m     dtype \u001b[39m=\u001b[39m pandas_dtype(dtype)\n\u001b[1;32m    <a href='file:///~/.local/lib/python3.8/site-packages/pandas/core/indexes/base.py?line=416'>417</a>\u001b[0m \u001b[39mif\u001b[39;00m \u001b[39m\"\u001b[39m\u001b[39mtz\u001b[39m\u001b[39m\"\u001b[39m \u001b[39min\u001b[39;00m kwargs:\n\u001b[1;32m    <a href='file:///~/.local/lib/python3.8/site-packages/pandas/core/indexes/base.py?line=417'>418</a>\u001b[0m     tz \u001b[39m=\u001b[39m kwargs\u001b[39m.\u001b[39mpop(\u001b[39m\"\u001b[39m\u001b[39mtz\u001b[39m\u001b[39m\"\u001b[39m)\n",
      "File \u001b[0;32m~/.local/lib/python3.8/site-packages/pandas/core/dtypes/common.py:1777\u001b[0m, in \u001b[0;36mpandas_dtype\u001b[0;34m(dtype)\u001b[0m\n\u001b[1;32m   <a href='file:///~/.local/lib/python3.8/site-packages/pandas/core/dtypes/common.py?line=1773'>1774</a>\u001b[0m \u001b[39m# try a numpy dtype\u001b[39;00m\n\u001b[1;32m   <a href='file:///~/.local/lib/python3.8/site-packages/pandas/core/dtypes/common.py?line=1774'>1775</a>\u001b[0m \u001b[39m# raise a consistent TypeError if failed\u001b[39;00m\n\u001b[1;32m   <a href='file:///~/.local/lib/python3.8/site-packages/pandas/core/dtypes/common.py?line=1775'>1776</a>\u001b[0m \u001b[39mtry\u001b[39;00m:\n\u001b[0;32m-> <a href='file:///~/.local/lib/python3.8/site-packages/pandas/core/dtypes/common.py?line=1776'>1777</a>\u001b[0m     npdtype \u001b[39m=\u001b[39m np\u001b[39m.\u001b[39;49mdtype(dtype)\n\u001b[1;32m   <a href='file:///~/.local/lib/python3.8/site-packages/pandas/core/dtypes/common.py?line=1777'>1778</a>\u001b[0m \u001b[39mexcept\u001b[39;00m \u001b[39mSyntaxError\u001b[39;00m \u001b[39mas\u001b[39;00m err:\n\u001b[1;32m   <a href='file:///~/.local/lib/python3.8/site-packages/pandas/core/dtypes/common.py?line=1778'>1779</a>\u001b[0m     \u001b[39m# np.dtype uses `eval` which can raise SyntaxError\u001b[39;00m\n\u001b[1;32m   <a href='file:///~/.local/lib/python3.8/site-packages/pandas/core/dtypes/common.py?line=1779'>1780</a>\u001b[0m     \u001b[39mraise\u001b[39;00m \u001b[39mTypeError\u001b[39;00m(\u001b[39mf\u001b[39m\u001b[39m\"\u001b[39m\u001b[39mdata type \u001b[39m\u001b[39m'\u001b[39m\u001b[39m{\u001b[39;00mdtype\u001b[39m}\u001b[39;00m\u001b[39m'\u001b[39m\u001b[39m not understood\u001b[39m\u001b[39m\"\u001b[39m) \u001b[39mfrom\u001b[39;00m \u001b[39merr\u001b[39;00m\n",
      "\u001b[0;31mTypeError\u001b[0m: Field elements must be 2- or 3-tuples, got ''xchg''"
     ]
    },
    {
     "data": {
      "image/png": "[encoded data removed]",
      "text/plain": [
       "<Figure size 432x288 with 12 Axes>"
      ]
     },
     "metadata": {
      "needs_background": "light"
     },
     "output_type": "display_data"
    }
   ],
   "source": [
    "fig, axs = plt.subplots(3, 4)\n",
    "\n",
    "trapezoid_df = pd.DataFrame([], indexby=pd.MultiIndex([], ['xchg', 'stk']), columns=[\"x1\", \"x2\", \"yl\", \"ymid\", \"yr\"])\n",
    "\n",
    "for i, j, k in itertools.product(range(len(exchanges)), range(len(stocks)), range(1)):\n",
    "    xchg = exchanges[i]\n",
    "    stk = stocks[j]\n",
    "    # part = parties[k]\n",
    "    part = 'R'\n",
    "    df = df_train[(df_train.xchg == xchg) & (df_train.stk == stk) & (df_train.cp == part)]\n",
    "\n",
    "    row = k * 3 + i\n",
    "    col = j\n",
    "\n",
    "    xs, ys, yerrs = bin_helper(df.sm, df.real_edge - df.pred_edge, 40)\n",
    "    axs[row][col].errorbar(xs, ys, yerrs)\n",
    "\n",
    "    trap = learn_trapezoid(xs, ys, yerrs)\n",
    "    ls = np.linspace(-100, 100, 100)\n",
    "    axs[row][col].plot(ls, [trap.calc(x) for x in ls], c='r', linewidth=5)\n",
    "    axs[row][col].set_title(f\"{xchg} {stk} {part}\")\n",
    "    axs[row][col].axhline(0, c='r')\n",
    "\n",
    "    \"\"\"\n",
    "    trapezoid_df.loc[].append({\n",
    "        \"x1\": trap.x1,\n",
    "        \"x2\": trap.x2,\n",
    "        \"yl\": trap.yl,\n",
    "        \"ymid\": trap.ymid,\n",
    "        \"yr\": trap.yr,\n",
    "    })\n",
    "    \"\"\"\n",
    "\n",
    "# trapezoid_df.to_csv(\"trapezoids.csv\")\n",
    "\n",
    "fig.set_size_inches(25, 15)"
   ]
  },
  {
   "cell_type": "code",
   "execution_count": null,
   "metadata": {},
   "outputs": [
    {
     "data": {
      "text/html": [
       "<div>\n",
       "<style scoped>\n",
       "    .dataframe tbody tr th:only-of-type {\n",
       "        vertical-align: middle;\n",
       "    }\n",
       "\n",
       "    .dataframe tbody tr th {\n",
       "        vertical-align: top;\n",
       "    }\n",
       "\n",
       "    .dataframe thead th {\n",
       "        text-align: right;\n",
       "    }\n",
       "</style>\n",
       "<table border=\"1\" class=\"dataframe\">\n",
       "  <thead>\n",
       "    <tr style=\"text-align: right;\">\n",
       "      <th></th>\n",
       "      <th>x1</th>\n",
       "      <th>x2</th>\n",
       "      <th>yl</th>\n",
       "      <th>ymid</th>\n",
       "      <th>yr</th>\n",
       "    </tr>\n",
       "  </thead>\n",
       "  <tbody>\n",
       "    <tr>\n",
       "      <th>xchg</th>\n",
       "      <td>NaN</td>\n",
       "      <td>NaN</td>\n",
       "      <td>NaN</td>\n",
       "      <td>NaN</td>\n",
       "      <td>NaN</td>\n",
       "    </tr>\n",
       "    <tr>\n",
       "      <th>stk</th>\n",
       "      <td>NaN</td>\n",
       "      <td>NaN</td>\n",
       "      <td>NaN</td>\n",
       "      <td>NaN</td>\n",
       "      <td>NaN</td>\n",
       "    </tr>\n",
       "  </tbody>\n",
       "</table>\n",
       "</div>"
      ],
      "text/plain": [
       "       x1   x2   yl ymid   yr\n",
       "xchg  NaN  NaN  NaN  NaN  NaN\n",
       "stk   NaN  NaN  NaN  NaN  NaN"
      ]
     },
     "execution_count": 47,
     "metadata": {},
     "output_type": "execute_result"
    }
   ],
   "source": [
    "trapezoid_df"
   ]
  },
  {
   "cell_type": "code",
   "execution_count": null,
   "metadata": {},
   "outputs": [],
   "source": []
  },
  {
   "cell_type": "code",
   "execution_count": null,
   "metadata": {},
   "outputs": [],
   "source": []
  }
 ],
 "metadata": {
  "interpreter": {
   "hash": "e7370f93d1d0cde622a1f8e1c04877d8463912d04d973331ad4851f04de6915a"
  },
  "kernelspec": {
   "display_name": "Python 3.8.10 64-bit",
   "language": "python",
   "name": "python3"
  },
  "language_info": {
   "codemirror_mode": {
    "name": "ipython",
    "version": 3
   },
   "file_extension": ".py",
   "mimetype": "text/x-python",
   "name": "python",
   "nbconvert_exporter": "python",
   "pygments_lexer": "ipython3",
   "version": "3.8.10"
  },
  "orig_nbformat": 4
 },
 "nbformat": 4,
 "nbformat_minor": 2
}
